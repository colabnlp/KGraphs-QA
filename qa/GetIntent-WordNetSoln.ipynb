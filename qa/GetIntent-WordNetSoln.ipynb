{
 "cells": [
  {
   "cell_type": "code",
   "execution_count": 5,
   "metadata": {},
   "outputs": [
    {
     "name": "stderr",
     "output_type": "stream",
     "text": [
      "C:\\Users\\HP\\Anaconda3\\lib\\site-packages\\pandas\\io\\excel.py:329: FutureWarning: The `sheetname` keyword is deprecated, use `sheet_name` instead\n",
      "  **kwds)\n"
     ]
    }
   ],
   "source": [
    "import pandas as pd\n",
    "d = pd.read_excel(\"C:\\\\Users\\\\HP\\\\Desktop\\\\PES_SEM_8\\\\KGraphs-QA\\\\qa\\\\QA.xlsx\", sheetname='Question-Intent')"
   ]
  },
  {
   "cell_type": "code",
   "execution_count": 6,
   "metadata": {
    "collapsed": true
   },
   "outputs": [],
   "source": [
    "from nltk import word_tokenize, pos_tag\n",
    "from nltk.corpus import wordnet as wn\n",
    "from nltk.corpus import stopwords\n",
    "stop_words = set(stopwords.words('english'))\n",
    "from nltk.stem.wordnet import WordNetLemmatizer\n",
    "def penn_to_wn(tag):\n",
    "    \"\"\" Convert between a Penn Treebank tag to a simplified Wordnet tag \"\"\"\n",
    "    if tag.startswith('N'):\n",
    "        return 'n'\n",
    " \n",
    "    if tag.startswith('V'):\n",
    "        return 'v'\n",
    " \n",
    "    if tag.startswith('J'):\n",
    "        return 'a'\n",
    " \n",
    "    if tag.startswith('R'):\n",
    "        return 'r'\n",
    " \n",
    "    return None\n",
    " \n",
    "def tagged_to_synset(word, tag):\n",
    "    wn_tag = penn_to_wn(tag)\n",
    "    if wn_tag is None:\n",
    "        return None\n",
    " \n",
    "    try:\n",
    "        return wn.synsets(word, wn_tag)[0]\n",
    "    except:\n",
    "        return None\n",
    "def check_similarity(sentence1, sentence2):\n",
    "    \"\"\" compute the sentence similarity using Wordnet \"\"\"\n",
    "    # Tokenize and tag\n",
    "    sentence1 = pos_tag(word_tokenize(sentence1))\n",
    "    sentence2 = pos_tag(word_tokenize(sentence2))\n",
    " \n",
    "    # Get the synsets for the tagged words\n",
    "    synsets1 = [tagged_to_synset(*tagged_word) for tagged_word in sentence1]\n",
    "    synsets2 = [tagged_to_synset(*tagged_word) for tagged_word in sentence2]\n",
    " \n",
    "    # Filter out the Nones\n",
    "    synsets1 = [ss for ss in synsets1 if ss]\n",
    "    synsets2 = [ss for ss in synsets2 if ss]\n",
    " \n",
    "    score, count = 0.0, 0\n",
    "    #print(synsets1)\n",
    "    #print(synsets2)\n",
    "       # For each word in the first sentence\n",
    "    for synset in synsets1:\n",
    "        # Get the similarity value of the most similar word in the other sentence\n",
    "        best_score = list([synset.path_similarity(ss) for ss in synsets2])\n",
    "        best_score= list(filter(lambda a: a != None, best_score))\n",
    "        if(best_score==[]):\n",
    "            best_score =0\n",
    "        else:\n",
    "            best_score = max(best_score)\n",
    "        # Check that the similarity could have been computed\n",
    "        if best_score is not None:\n",
    "            score += best_score\n",
    "            count += 1\n",
    " \n",
    "    # Average the values\n",
    "    if (count!= 0):\n",
    "        score /= count\n",
    "    return score"
   ]
  },
  {
   "cell_type": "code",
   "execution_count": 7,
   "metadata": {
    "collapsed": true
   },
   "outputs": [],
   "source": [
    "def sortThird(val): \n",
    "    return val[2]  \n",
    "  \n",
    "def get_Intent(q):\n",
    "    all=[]\n",
    "    for x in list(d[\"Question\"]):\n",
    "        print(x  , \"||\" , list(d[d[\"Question\"] == x][\"Intent\"])[0], \"||\", check_similarity(q, x))\n",
    "        l=[]\n",
    "        l.append(x)\n",
    "        l.append(list(d[d[\"Question\"] == x][\"Intent\"])[0])\n",
    "        l.append(check_similarity(q, x))\n",
    "        all.append(l)\n",
    "    all.sort(key = sortThird, reverse=True)\n",
    "    return all[0][1]"
   ]
  },
  {
   "cell_type": "code",
   "execution_count": 9,
   "metadata": {},
   "outputs": [
    {
     "name": "stdout",
     "output_type": "stream",
     "text": [
      "what are symptoms of Problem || disease_symptom || 0.5277777777777778\n",
      "what is problem caused by disease? || symptom_disease || 0.5277777777777778\n",
      "what are the side effects of treatment || treatment_side_effects || 0.22474747474747472\n",
      "What medications are best for the treatment of problem? || disease_treatment || 0.5277777777777778\n",
      "what diseases are cured by treatment || treatment_disease || 0.22008547008547005\n",
      " what problem is a test conducted for || test_problem || 0.5277777777777778\n",
      "what tests are conducted for Problem || problem_test || 0.5277777777777778\n",
      "What are the signs that I have Problem? || disease_symptom || 0.22474747474747472\n",
      "is problem a symptom of problem || symptom_disease || 0.5277777777777778\n",
      "what happens when I take treatment || treatment_side_effects || 0.47008547008547\n",
      "I have problem, what treatment do I take? || disease_treatment || 1.0\n",
      "is treatment helpful for problem?  || treatment_disease || 0.5277777777777778\n",
      "what are the indications that I have problem? || disease_symptom || 0.5277777777777778\n",
      "I have problem. Do I have problem? || symptom_disease || 0.75\n",
      "Can treatment cause problem? || treatment_side_effects || 0.48333333333333334\n",
      "I am suffering from problem. does treatment cure it? || disease_treatment || 0.75\n",
      "Does treatment cure problem? || treatment_disease || 0.4037037037037037\n",
      "My doctor told me I experience problem. Do I have problem?  || symptom_disease || 0.75\n",
      "I have problem. Is medicine the correct treatment? || disease_treatment || 0.5277777777777778\n",
      "Does treatment cure problem? || treatment_disease || 0.4037037037037037\n",
      "What all problems does a test reveal? || test_problem || 0.75\n"
     ]
    },
    {
     "data": {
      "text/plain": [
       "'disease_treatment'"
      ]
     },
     "execution_count": 9,
     "metadata": {},
     "output_type": "execute_result"
    }
   ],
   "source": [
    "get_Intent(\"what do I take for problem\")"
   ]
  },
  {
   "cell_type": "code",
   "execution_count": null,
   "metadata": {
    "collapsed": true
   },
   "outputs": [],
   "source": []
  }
 ],
 "metadata": {
  "kernelspec": {
   "display_name": "Python 3",
   "language": "python",
   "name": "python3"
  },
  "language_info": {
   "codemirror_mode": {
    "name": "ipython",
    "version": 3
   },
   "file_extension": ".py",
   "mimetype": "text/x-python",
   "name": "python",
   "nbconvert_exporter": "python",
   "pygments_lexer": "ipython3",
   "version": "3.6.3"
  }
 },
 "nbformat": 4,
 "nbformat_minor": 2
}
